{
 "cells": [
  {
   "cell_type": "code",
   "execution_count": 1,
   "metadata": {
    "collapsed": true
   },
   "outputs": [],
   "source": [
    "import numpy as np\n",
    "import pandas as pd"
   ]
  },
  {
   "cell_type": "markdown",
   "metadata": {},
   "source": [
    "## WordNet\n",
    "- Represent the meaning of words with a lot of \"categiries\" (\"tags\") based on taxionomy. \n",
    "- Need to be annotated by human, and some language don't have many WordNet."
   ]
  },
  {
   "cell_type": "code",
   "execution_count": 40,
   "metadata": {},
   "outputs": [
    {
     "data": {
      "text/plain": [
       "[Synset('canine.n.02'),\n",
       " Synset('domestic_animal.n.01'),\n",
       " Synset('carnivore.n.01'),\n",
       " Synset('animal.n.01'),\n",
       " Synset('placental.n.01'),\n",
       " Synset('organism.n.01'),\n",
       " Synset('mammal.n.01'),\n",
       " Synset('living_thing.n.01'),\n",
       " Synset('vertebrate.n.01'),\n",
       " Synset('whole.n.02'),\n",
       " Synset('chordate.n.01'),\n",
       " Synset('object.n.01'),\n",
       " Synset('physical_entity.n.01'),\n",
       " Synset('entity.n.01')]"
      ]
     },
     "execution_count": 40,
     "metadata": {},
     "output_type": "execute_result"
    }
   ],
   "source": [
    "from nltk.corpus import wordnet as wn\n",
    "panda = wn.synset('panda.n.01')\n",
    "hyper = lambda s: s.hypernyms()\n",
    "list(panda.closure(hyper))\n",
    "\n",
    "panda = wn.synset('dog.n.01')\n",
    "hyper = lambda s: s.hypernyms()\n",
    "list(panda.closure(hyper))"
   ]
  },
  {
   "cell_type": "markdown",
   "metadata": {},
   "source": [
    "## Bugs of Words (BOW) represetation of words\n",
    "- Just counting the occurence of words in sentences. \n",
    "- 3 Step \n",
    "   1. Tokenize -> NLTK.tokenizer(), for english sentences, it's not that difficult. \n",
    "   2. Counting -> Count the occurence of tokens in each sentence. \n",
    "   3. Normalizing and weighting -> One of the most common idea \"TF-IDF\"\n",
    "- The Probelm : Sparse, also not robust to new words. <br>\n",
    "    > What if new words come in which doesn't show up in training data set? "
   ]
  },
  {
   "cell_type": "code",
   "execution_count": 34,
   "metadata": {},
   "outputs": [
    {
     "name": "stdout",
     "output_type": "stream",
     "text": [
      "[[0 1 0 1 0 0 1 1 1]]\n",
      "['and', 'document', 'first', 'is', 'one', 'second', 'the', 'third', 'this']\n"
     ]
    }
   ],
   "source": [
    "from sklearn.feature_extraction.text import CountVectorizer\n",
    "corpus = ['This is the first document.','This is the second second document.', \\\n",
    "          'And the third one.','Is this the first document?']\n",
    "vectorizer = CountVectorizer()\n",
    "vectorizer.fit_transform(corpus)\n",
    "vectorized_sentence = vectorizer.transform([\"This is the third document written by John.\"]).toarray()\n",
    "print(vectorized_sentence)\n",
    "print(vectorizer.get_feature_names())\n",
    "# New words cannot be captured."
   ]
  },
  {
   "cell_type": "code",
   "execution_count": 35,
   "metadata": {},
   "outputs": [
    {
     "name": "stdout",
     "output_type": "stream",
     "text": [
      "[[ 0.          0.40412895  0.          0.40412895  0.          0.\n",
      "   0.33040189  0.63314609  0.40412895]]\n",
      "['and', 'document', 'first', 'is', 'one', 'second', 'the', 'third', 'this']\n"
     ]
    }
   ],
   "source": [
    "from sklearn.feature_extraction.text import TfidfVectorizer\n",
    "tfidfvectorizer = TfidfVectorizer()\n",
    "tfidfvectorizer.fit_transform(corpus)\n",
    "tfidfvectorized_sentence = tfidfvectorizer.transform([\"This is the third document written by John.\"]).toarray()\n",
    "print(tfidfvectorized_sentence)\n",
    "print(tfidfvectorizer.get_feature_names())"
   ]
  },
  {
   "cell_type": "markdown",
   "metadata": {},
   "source": [
    "## Methods of window based co-occurence matrix \n",
    "- Capture the meaning by checking left/right neighbors of the target words, assuming the words co-occur together have similar topics. \n",
    "- Still sparse, not robust to new data."
   ]
  },
  {
   "cell_type": "code",
   "execution_count": 36,
   "metadata": {},
   "outputs": [
    {
     "name": "stdout",
     "output_type": "stream",
     "text": [
      "['A', 'D', 'C', 'F', 'E', 'B', 'G']\n",
      "[[0, 2, 2, 0, 3, 1, 2], [2, 0, 2, 1, 2, 0, 2], [2, 2, 0, 0, 2, 1, 1], [0, 1, 0, 0, 1, 1, 1], [3, 2, 2, 1, 0, 1, 2], [1, 0, 1, 1, 1, 0, 0], [2, 2, 1, 1, 2, 0, 0]]\n"
     ]
    }
   ],
   "source": [
    "# Easy example \n",
    "sentence = \"A D G C E A D G F E B A C E D\".split(\" \")\n",
    "m = 2\n",
    "#Window size will be 5, 2 from l3ft, 2 from right and the center word itself.\n",
    "distinct_word = len(set(sentence))\n",
    "word_list = list(set(sentence))\n",
    "print(word_list)\n",
    "context_vector = [[0 for j in range(distinct_word)] for i in range(distinct_word)]\n",
    "\n",
    "for word in set(sentence):\n",
    "    indices = [i for i, x in enumerate(sentence) if x == word]\n",
    "    for index in indices:\n",
    "        for i in range(1, m+1):\n",
    "            if index + i < len(sentence) and word != sentence[index + i]:\n",
    "                context_vector[word_list.index(word)][word_list.index(sentence[index + i])] += 1\n",
    "            if index - i >= 0 and word != sentence[index - i]:\n",
    "                context_vector[word_list.index(word)][word_list.index(sentence[index - i])] += 1\n",
    "\n",
    "print(context_vector)"
   ]
  },
  {
   "cell_type": "markdown",
   "metadata": {},
   "source": [
    "## Word2Vec fastText \n",
    "- Main idea : Skipgram and CBOW(Lecture#2 was mainly talking about Skip-grams)"
   ]
  },
  {
   "cell_type": "code",
   "execution_count": 37,
   "metadata": {},
   "outputs": [
    {
     "name": "stdout",
     "output_type": "stream",
     "text": [
      "0.62924441029\n",
      "0.452758348183\n",
      "0.615376118122\n",
      "0.687043852834\n"
     ]
    }
   ],
   "source": [
    "import gensim\n",
    "model = gensim.models.KeyedVectors.load_word2vec_format(\"/Users/akariasai/Downloads/wiki.en.vec\")\n",
    "print(model.similarity('france', 'spain'))\n",
    "print(model.similarity('france', 'japan'))\n",
    "print(model.similarity('france', 'paris'))\n",
    "print(model.similarity('japan', 'tokyo'))"
   ]
  },
  {
   "cell_type": "code",
   "execution_count": null,
   "metadata": {
    "collapsed": true
   },
   "outputs": [],
   "source": []
  }
 ],
 "metadata": {
  "kernelspec": {
   "display_name": "Python 3",
   "language": "python",
   "name": "python3"
  },
  "language_info": {
   "codemirror_mode": {
    "name": "ipython",
    "version": 3
   },
   "file_extension": ".py",
   "mimetype": "text/x-python",
   "name": "python",
   "nbconvert_exporter": "python",
   "pygments_lexer": "ipython3",
   "version": "3.6.1"
  }
 },
 "nbformat": 4,
 "nbformat_minor": 2
}
